{
  "nbformat": 4,
  "nbformat_minor": 0,
  "metadata": {
    "colab": {
      "provenance": [],
      "include_colab_link": true
    },
    "kernelspec": {
      "display_name": "Python 3",
      "language": "python",
      "name": "python3"
    },
    "language_info": {
      "codemirror_mode": {
        "name": "ipython",
        "version": 3
      },
      "file_extension": ".py",
      "mimetype": "text/x-python",
      "name": "python",
      "nbconvert_exporter": "python",
      "pygments_lexer": "ipython3",
      "version": "3.9.2"
    }
  },
  "cells": [
    {
      "cell_type": "markdown",
      "metadata": {
        "id": "view-in-github",
        "colab_type": "text"
      },
      "source": [
        "<a href=\"https://colab.research.google.com/github/Aditi31kapil/python-/blob/main/01_Conditions_Loops_Blocks.ipynb\" target=\"_parent\"><img src=\"https://colab.research.google.com/assets/colab-badge.svg\" alt=\"Open In Colab\"/></a>"
      ]
    },
    {
      "cell_type": "markdown",
      "metadata": {
        "id": "amoo2jS81XNa"
      },
      "source": [
        "# Python Quickstart\n",
        "## Conditions, Loops and Blocks\n",
        "In this notebook we will look at Python's conditional, looping and block constructs. We will also look at some output formatting"
      ]
    },
    {
      "cell_type": "markdown",
      "metadata": {
        "id": "TGshp3nJTOBi"
      },
      "source": [
        "#### Simple Conditions and blocks"
      ]
    },
    {
      "cell_type": "code",
      "metadata": {
        "id": "4Wyz-IUXTdps",
        "outputId": "753732e1-79cb-4e37-b8a0-df6cedf5520e",
        "colab": {
          "base_uri": "https://localhost:8080/"
        }
      },
      "source": [
        "attendancePercentage = 70\n",
        "# In the code below the two print statements are one block.\n",
        "# They are indented by 4-spaces to convey that\n",
        "if attendancePercentage < 75:\n",
        "    print(\"Attendance requirement for Merit certificate not met\")\n",
        "    print(\"Participation Certificate only\")"
      ],
      "execution_count": 1,
      "outputs": [
        {
          "output_type": "stream",
          "name": "stdout",
          "text": [
            "Attendance requirement for Merit certificate not met\n",
            "Participation Certificate only\n"
          ]
        }
      ]
    },
    {
      "cell_type": "code",
      "metadata": {
        "id": "eiofx0fDTiLa"
      },
      "source": [
        "attendancePercentage = 80\n",
        "# In the code below the two print statements are one block.\n",
        "# They are indented by 4-spaces to convey that\n",
        "if attendancePercentage < 75:\n",
        "    print(\"Attendance requirement for Merit certificate not met\")\n",
        "    print(\"Participation Certificate only\")"
      ],
      "execution_count": 2,
      "outputs": []
    },
    {
      "cell_type": "markdown",
      "metadata": {
        "id": "Emr6kqok1XNy"
      },
      "source": [
        "As you can see there is no output if the condition is not met"
      ]
    },
    {
      "cell_type": "markdown",
      "metadata": {
        "id": "EtNcuPAETN46"
      },
      "source": [
        "##### Else Statement"
      ]
    },
    {
      "cell_type": "code",
      "metadata": {
        "id": "OyfbCbhxTvYa",
        "outputId": "3652014d-869c-4e0b-a28d-069ed449d978",
        "colab": {
          "base_uri": "https://localhost:8080/"
        }
      },
      "source": [
        "attendancePercentage = 80\n",
        "\n",
        "if attendancePercentage < 75:\n",
        "    print(\"Attendance requirement for Merit certificate not met\")\n",
        "    print(\"Partcipation Certificate only\")\n",
        "else:\n",
        "    print(\"Attendance requirement for Merit certificate met\")\n",
        "    print(\"Verify grades\")"
      ],
      "execution_count": 3,
      "outputs": [
        {
          "output_type": "stream",
          "name": "stdout",
          "text": [
            "Attendance requirement for Merit certificate met\n",
            "Verify grades\n"
          ]
        }
      ]
    },
    {
      "cell_type": "markdown",
      "metadata": {
        "id": "WVIq0Gc-TN1W"
      },
      "source": [
        "##### Else if ladder"
      ]
    },
    {
      "cell_type": "code",
      "metadata": {
        "id": "DJU1Gs8GT2vy",
        "outputId": "1c0f5445-ef09-4e1d-9b1d-23e20a1b1d71",
        "colab": {
          "base_uri": "https://localhost:8080/"
        }
      },
      "source": [
        "attendancePercentage = 80\n",
        "gradePoints = 320\n",
        "if attendancePercentage < 75:\n",
        "    print(\"Attendance requirement for Merit certificate not met\")\n",
        "    print(\"Participation Certificate only\")\n",
        "elif gradePoints < 300:\n",
        "    print(\"Attendance requirement for Merit certificate met\")\n",
        "    print(\"But insufficient grade\")\n",
        "    print(\"Participation Certificate only\")\n",
        "else:\n",
        "    print(\"Attendance requirement for Merit certificate met\")\n",
        "    print(\"Grade Requirement for Merit Certificate met\")"
      ],
      "execution_count": 4,
      "outputs": [
        {
          "output_type": "stream",
          "name": "stdout",
          "text": [
            "Attendance requirement for Merit certificate met\n",
            "Grade Requirement for Merit Certificate met\n"
          ]
        }
      ]
    },
    {
      "cell_type": "markdown",
      "metadata": {
        "id": "vN9prcUzSGbQ"
      },
      "source": [
        "#### Simple While loop"
      ]
    },
    {
      "cell_type": "code",
      "metadata": {
        "id": "6o82u9jgSrt4",
        "outputId": "38762045-734b-49ef-b1c3-912dd3babded",
        "colab": {
          "base_uri": "https://localhost:8080/"
        }
      },
      "source": [
        "#Lets write a while loop to print numbers from 0 to 4\n",
        "x = 0\n",
        "while x < 5:\n",
        "     print(x)\n",
        "     x += 1"
      ],
      "execution_count": 5,
      "outputs": [
        {
          "output_type": "stream",
          "name": "stdout",
          "text": [
            "0\n",
            "1\n",
            "2\n",
            "3\n",
            "4\n"
          ]
        }
      ]
    },
    {
      "cell_type": "markdown",
      "metadata": {
        "id": "NgawHbBOK65m"
      },
      "source": [
        "#### Blocks are indicated by indent"
      ]
    },
    {
      "cell_type": "code",
      "metadata": {
        "id": "K4PAp6g1bZO9",
        "scrolled": true,
        "outputId": "60221b40-6969-4394-b501-d70bc2a9d0ba",
        "colab": {
          "base_uri": "https://localhost:8080/",
          "height": 142
        }
      },
      "source": [
        "if True:\n",
        "    print(\"True\")\n",
        "   print(\"Less indent\")"
      ],
      "execution_count": 7,
      "outputs": [
        {
          "output_type": "error",
          "ename": "IndentationError",
          "evalue": "unindent does not match any outer indentation level (<tokenize>, line 3)",
          "traceback": [
            "\u001b[0;36m  File \u001b[0;32m\"<tokenize>\"\u001b[0;36m, line \u001b[0;32m3\u001b[0m\n\u001b[0;31m    print(\"Less indent\")\u001b[0m\n\u001b[0m    ^\u001b[0m\n\u001b[0;31mIndentationError\u001b[0m\u001b[0;31m:\u001b[0m unindent does not match any outer indentation level\n"
          ]
        }
      ]
    },
    {
      "cell_type": "code",
      "metadata": {
        "id": "vHYRQHH8K65n",
        "outputId": "98061fc6-be3d-45df-a8b8-980e84869c64",
        "colab": {
          "base_uri": "https://localhost:8080/"
        }
      },
      "source": [
        "if True:\n",
        "    print(\"True\")\n",
        "    print(\"More indent\")"
      ],
      "execution_count": 9,
      "outputs": [
        {
          "output_type": "stream",
          "name": "stdout",
          "text": [
            "True\n",
            "More indent\n"
          ]
        }
      ]
    },
    {
      "cell_type": "markdown",
      "metadata": {
        "id": "4j0AnUtbS9jq"
      },
      "source": [
        "#### Combining conditions\n",
        "We can combine conditions using **and**, **or** and **not** operators"
      ]
    },
    {
      "cell_type": "code",
      "metadata": {
        "id": "7Q8SaGDP1XOY",
        "outputId": "35332ea4-12dd-4b3b-f57b-03e6a003e803",
        "colab": {
          "base_uri": "https://localhost:8080/"
        }
      },
      "source": [
        "attendancePercentage = 80\n",
        "gradePoints = 320\n",
        "if attendancePercentage >= 75 and gradePoints >= 300:\n",
        "    print(\"Attendance and grade requirement for Merit certificate met\")\n",
        "else:\n",
        "    print(\"Either attendance of grade (or both) insufficient\")\n",
        "    print(\"Participation certificate only\")"
      ],
      "execution_count": 10,
      "outputs": [
        {
          "output_type": "stream",
          "name": "stdout",
          "text": [
            "Attendance and grade requirement for Merit certificate met\n"
          ]
        }
      ]
    },
    {
      "cell_type": "markdown",
      "metadata": {
        "id": "CifE3XpO1XOf"
      },
      "source": [
        "##### More on blocks\n",
        "* blocks start below a line ending in :\n",
        "* all lines in a block are indented (by 4 spaces)\n",
        "* Nested blocks --> nested indenting\n",
        "* End of block --> unindent\n"
      ]
    },
    {
      "cell_type": "code",
      "metadata": {
        "id": "ojFY-NQH1XOh"
      },
      "source": [
        "mark = 76\n",
        "if mark < 40:\n",
        "    status = \"Fail\"\n",
        "    letterGrade = \"F\"\n",
        "else:\n",
        "    status = \"Pass\"\n",
        "    if mark < 50:\n",
        "        letterGrade = \"D\"\n",
        "    elif mark < 60:\n",
        "        letterGrade = \"C\"\n",
        "    elif mark < 75:\n",
        "        letterGrade = \"B\"\n",
        "    elif mark < 90:\n",
        "        letterGrade = \"A\"\n",
        "    else:\n",
        "        letterGrade = \"A+\""
      ],
      "execution_count": 11,
      "outputs": []
    },
    {
      "cell_type": "markdown",
      "metadata": {
        "id": "3CO8nFOq1XOp"
      },
      "source": [
        "#### Python Special\n",
        "Often we have to compare if a value is between two limits; say if a number is between 17 and 21. Or if a string is lexicographically between \"Alpha\" and \"Omega\"\n",
        "\n",
        "In almost all languages this needs a compound condition with **and**\n",
        "The pythonic way is:"
      ]
    },
    {
      "cell_type": "code",
      "metadata": {
        "id": "NDoWLKL61XOv",
        "outputId": "57025503-90c9-4ab0-e6f1-1df4782dfdf3",
        "colab": {
          "base_uri": "https://localhost:8080/"
        }
      },
      "source": [
        "x = 19\n",
        "17 < x < 21"
      ],
      "execution_count": 12,
      "outputs": [
        {
          "output_type": "execute_result",
          "data": {
            "text/plain": [
              "True"
            ]
          },
          "metadata": {},
          "execution_count": 12
        }
      ]
    },
    {
      "cell_type": "code",
      "metadata": {
        "id": "FyeYMKc4K65r",
        "outputId": "e7c74ee1-e505-48b1-be38-cb1c52bdd35f",
        "colab": {
          "base_uri": "https://localhost:8080/"
        }
      },
      "source": [
        "s =\"Gamma\"\n",
        "\"Alpha\" < s < \"Omega\""
      ],
      "execution_count": 13,
      "outputs": [
        {
          "output_type": "execute_result",
          "data": {
            "text/plain": [
              "True"
            ]
          },
          "metadata": {},
          "execution_count": 13
        }
      ]
    },
    {
      "cell_type": "code",
      "metadata": {
        "id": "GxMPHVbJK65s",
        "outputId": "22c03f99-edac-45ad-970b-5f506ac9e0fa",
        "colab": {
          "base_uri": "https://localhost:8080/"
        }
      },
      "source": [
        "s = \"Theta\"\n",
        "\"Alpha\" < s < \"Omega\""
      ],
      "execution_count": 15,
      "outputs": [
        {
          "output_type": "execute_result",
          "data": {
            "text/plain": [
              "False"
            ]
          },
          "metadata": {},
          "execution_count": 15
        }
      ]
    },
    {
      "cell_type": "markdown",
      "metadata": {
        "id": "6kJMq7fhK65s"
      },
      "source": [
        "We can also do\n",
        "\n",
        "a < b < c < d, a > b > c > e etc"
      ]
    },
    {
      "cell_type": "markdown",
      "metadata": {
        "id": "klMp0qEVK65t"
      },
      "source": [
        "#### More loop examples\n",
        "With some print options"
      ]
    },
    {
      "cell_type": "code",
      "metadata": {
        "id": "Mxlrp8LhK65t",
        "outputId": "f2f09e35-7759-48d4-c744-1942e99c9fb9",
        "colab": {
          "base_uri": "https://localhost:8080/"
        }
      },
      "source": [
        "n = 10\n",
        "while n > 0:\n",
        "    print(n, end=\" \")\n",
        "    n -= 2"
      ],
      "execution_count": 16,
      "outputs": [
        {
          "output_type": "stream",
          "name": "stdout",
          "text": [
            "10 8 6 4 2 "
          ]
        }
      ]
    },
    {
      "cell_type": "code",
      "metadata": {
        "id": "XjNc2Y35K65t",
        "outputId": "b957267d-a4f7-4aa1-ee33-c2652082435b",
        "colab": {
          "base_uri": "https://localhost:8080/"
        }
      },
      "source": [
        "a, b = 17, 20\n",
        "while a > 5 and b > 7:\n",
        "    print(a, b, sep=\"::\")\n",
        "    if a % 2 == 0:\n",
        "        a -= 1\n",
        "        b += 2\n",
        "    else:\n",
        "        a -= 3\n",
        "        b -= 4\n",
        ""
      ],
      "execution_count": 17,
      "outputs": [
        {
          "output_type": "stream",
          "name": "stdout",
          "text": [
            "17::20\n",
            "14::16\n",
            "13::18\n",
            "10::14\n",
            "9::16\n",
            "6::12\n"
          ]
        }
      ]
    },
    {
      "cell_type": "markdown",
      "metadata": {
        "id": "OSJiQvHqK65u"
      },
      "source": [
        "Python has **break** and **continue** statements"
      ]
    }
  ]
}