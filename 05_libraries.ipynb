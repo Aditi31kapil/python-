{
  "nbformat": 4,
  "nbformat_minor": 0,
  "metadata": {
    "colab": {
      "provenance": [],
      "include_colab_link": true
    },
    "kernelspec": {
      "display_name": "Python 3",
      "language": "python",
      "name": "python3"
    },
    "language_info": {
      "codemirror_mode": {
        "name": "ipython",
        "version": 3
      },
      "file_extension": ".py",
      "mimetype": "text/x-python",
      "name": "python",
      "nbconvert_exporter": "python",
      "pygments_lexer": "ipython3",
      "version": "3.9.2"
    }
  },
  "cells": [
    {
      "cell_type": "markdown",
      "metadata": {
        "id": "view-in-github",
        "colab_type": "text"
      },
      "source": [
        "<a href=\"https://colab.research.google.com/github/Aditi31kapil/python-/blob/main/05_libraries.ipynb\" target=\"_parent\"><img src=\"https://colab.research.google.com/assets/colab-badge.svg\" alt=\"Open In Colab\"/></a>"
      ]
    },
    {
      "cell_type": "markdown",
      "metadata": {
        "id": "NIw2hrBXmT1n"
      },
      "source": [
        "# Python Quickstart\n",
        "## Standard Library\n",
        "Python comes with a very HUGE set of functionality organized into a nice set of libraries. The documentation for the complete set is  at: https://docs.python.org/3/library\n",
        "We describe the most used ones here."
      ]
    },
    {
      "cell_type": "markdown",
      "metadata": {
        "id": "Uo_BpjDBmT1o"
      },
      "source": [
        "#### math\n",
        "Adds the simple math functions such as sqrt, sine, cosine, etc. Also defines the constants such as $\\pi, \\tau$ and $e$"
      ]
    },
    {
      "cell_type": "code",
      "metadata": {
        "id": "_ufSDeBnmT1p",
        "outputId": "15308329-1a73-49cb-ae55-afe1a226cf95",
        "colab": {
          "base_uri": "https://localhost:8080/"
        }
      },
      "source": [
        "import math\n",
        "print(math.sqrt(25))\n",
        "print(math.e, math.pi)\n",
        "print(math.gcd(52, 26))\n",
        "print(math.lcm(2,3))"
      ],
      "execution_count": 2,
      "outputs": [
        {
          "output_type": "stream",
          "name": "stdout",
          "text": [
            "5.0\n",
            "2.718281828459045 3.141592653589793\n",
            "26\n",
            "6\n"
          ]
        }
      ]
    },
    {
      "cell_type": "markdown",
      "metadata": {
        "id": "_iU94VZHQHJc"
      },
      "source": [
        "Type math. and hit a tab to see possible completions, which is the list of functions and constants in math library"
      ]
    },
    {
      "cell_type": "code",
      "metadata": {
        "id": "UmXst9Dqoi0Y",
        "outputId": "043fbf60-d219-4928-d0a1-06e1f5d0898a",
        "colab": {
          "base_uri": "https://localhost:8080/"
        }
      },
      "source": [
        "c=90*(math.pi/180)\n",
        "math.sin(c)"
      ],
      "execution_count": 5,
      "outputs": [
        {
          "output_type": "execute_result",
          "data": {
            "text/plain": [
              "1.0"
            ]
          },
          "metadata": {},
          "execution_count": 5
        }
      ]
    },
    {
      "cell_type": "markdown",
      "metadata": {
        "id": "j1DqjY5xmT1u"
      },
      "source": [
        "#### random\n",
        "Provides random numbers and related functions. Not meant for crypto usage"
      ]
    },
    {
      "cell_type": "code",
      "metadata": {
        "id": "hyvO-1jOmT1u",
        "outputId": "2c4b1056-ad30-49c5-e95d-46522a31dffa",
        "colab": {
          "base_uri": "https://localhost:8080/"
        }
      },
      "source": [
        "import random\n",
        "print(random.random()) # Float between 0 and 1\n",
        "def rollDice():\n",
        "    return random.randint(1, 6)\n",
        "for i in range(10):\n",
        "    print(rollDice(), end=\",\")"
      ],
      "execution_count": 6,
      "outputs": [
        {
          "output_type": "stream",
          "name": "stdout",
          "text": [
            "0.2964384049244023\n",
            "1,2,5,1,2,2,1,6,6,3,"
          ]
        }
      ]
    },
    {
      "cell_type": "code",
      "metadata": {
        "id": "73R3N7tmQD9o",
        "outputId": "efeb411e-fbb4-47c8-d928-723db441b1f0",
        "colab": {
          "base_uri": "https://localhost:8080/"
        }
      },
      "source": [
        "import random\n",
        "random.seed(42)\n",
        "for i in range(10):\n",
        "    print(random.random())"
      ],
      "execution_count": 7,
      "outputs": [
        {
          "output_type": "stream",
          "name": "stdout",
          "text": [
            "0.6394267984578837\n",
            "0.025010755222666936\n",
            "0.27502931836911926\n",
            "0.22321073814882275\n",
            "0.7364712141640124\n",
            "0.6766994874229113\n",
            "0.8921795677048454\n",
            "0.08693883262941615\n",
            "0.4219218196852704\n",
            "0.029797219438070344\n"
          ]
        }
      ]
    },
    {
      "cell_type": "markdown",
      "metadata": {
        "id": "qPHAXZ-pmT1y"
      },
      "source": [
        "#### os\n",
        "Provides hooks to operating system services. Probably the most used one is\n",
        "os.walk(DIRECTORY)\n"
      ]
    },
    {
      "cell_type": "markdown",
      "metadata": {
        "id": "HCIP96KcmT1y"
      },
      "source": [
        "#### collections\n",
        "Provides a few specialised container classes. defaultdict, namedtuple and counter classes are probably the most used"
      ]
    },
    {
      "cell_type": "markdown",
      "metadata": {
        "id": "nuHNPTFyQD9q"
      },
      "source": [
        "#### itertools\n",
        "Provides some functional tools. Very useful if the functional style appeals to you. Also look at **functools**"
      ]
    },
    {
      "cell_type": "markdown",
      "metadata": {
        "id": "0WeypG5emT1y"
      },
      "source": [
        "## External Libraries\n",
        "\n",
        "**numpy** Array handling abilities; the foundation for all other scientific and Machine Learning algorithm implementations\n",
        "\n",
        "**scipy** This is not a single library. It is a collection scientific computational modules such as linear algebra, statistics, ODE solvers, optimizers, special functions and so on.\n",
        "\n",
        "**matplotlib** The comprehensive and somewhat complex plotting library. Newer libraries include **seaborn**, **vega** and **plotly**\n",
        "\n",
        "**pandas** The swiss army knife of large data manipulation\n",
        "\n",
        "**pillow** Python imaging library.\n",
        "\n",
        "**openCV** Comprehensive computer vision library\n",
        "\n",
        "**tweepy** Twitter API\n",
        "\n",
        "**sympy** to carry out symbolic computation.\n",
        "\n",
        "**nltk** a humongous collection of libraries and corpora for natural language processing. **spacy** is a new library for the same purpose\n",
        "\n",
        "**scikit-learn** the most popular and complete classical machine learning library\n",
        "\n",
        "**Keras** Attempts to be a user friendly neural network library on top of theano, tensorflow etc\n",
        "\n",
        "**Tensorflow** A symbolic library and dataflow programming toolkit very suited for complex machine learning tasks\n",
        "\n",
        "**pyTorch** Similar to tensorflow but many find it easier to use"
      ]
    },
    {
      "cell_type": "code",
      "metadata": {
        "id": "aNlp-mhKmT1z"
      },
      "source": [],
      "execution_count": null,
      "outputs": []
    }
  ]
}