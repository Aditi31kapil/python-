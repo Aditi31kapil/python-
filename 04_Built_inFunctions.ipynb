{
  "nbformat": 4,
  "nbformat_minor": 0,
  "metadata": {
    "kernelspec": {
      "display_name": "Python 3",
      "language": "python",
      "name": "python3"
    },
    "language_info": {
      "codemirror_mode": {
        "name": "ipython",
        "version": 3
      },
      "file_extension": ".py",
      "mimetype": "text/x-python",
      "name": "python",
      "nbconvert_exporter": "python",
      "pygments_lexer": "ipython3",
      "version": "3.9.2"
    },
    "colab": {
      "provenance": [],
      "include_colab_link": true
    }
  },
  "cells": [
    {
      "cell_type": "markdown",
      "metadata": {
        "id": "view-in-github",
        "colab_type": "text"
      },
      "source": [
        "<a href=\"https://colab.research.google.com/github/Aditi31kapil/python-/blob/main/04_Built_inFunctions.ipynb\" target=\"_parent\"><img src=\"https://colab.research.google.com/assets/colab-badge.svg\" alt=\"Open In Colab\"/></a>"
      ]
    },
    {
      "cell_type": "markdown",
      "metadata": {
        "id": "9tkErlhFPw2y"
      },
      "source": [
        "# Python Quickstart\n",
        "## Built in Functions\n",
        "Python comes with a nice set of built-in functions\n",
        "The complete set can be seen at:https://docs.python.org/3/library/functions.html\n",
        "We take a look at the most used ones here. We have clustered and classified them for better understanding."
      ]
    },
    {
      "cell_type": "markdown",
      "metadata": {
        "id": "CdQLcfKoPw21"
      },
      "source": [
        "#### Aggregate Functions\n",
        "* len(iterable)\n",
        "* max(iterable)\n",
        "* min(iterable)\n",
        "* sorted(iterable[, key][, reverse])\n",
        "* sum(iterable[, start])"
      ]
    },
    {
      "cell_type": "code",
      "metadata": {
        "id": "UhKZhjAjPw22",
        "outputId": "1e77f536-0773-4347-9349-bea0b77922ce",
        "colab": {
          "base_uri": "https://localhost:8080/"
        }
      },
      "source": [
        "f = [1, 1, 2, 3, 5, 8, 13, 21, 34, 55, 89]\n",
        "g = [7, 12, -4, 17, 12, 11, 0, 9, 21, 6, 13]\n",
        "print(len(f), len(g))"
      ],
      "execution_count": 1,
      "outputs": [
        {
          "output_type": "stream",
          "name": "stdout",
          "text": [
            "11 11\n"
          ]
        }
      ]
    },
    {
      "cell_type": "code",
      "metadata": {
        "id": "qmvQhdYiPw23",
        "outputId": "7e28dffb-fc8b-46ac-e7f7-e4212f27e3e1",
        "colab": {
          "base_uri": "https://localhost:8080/"
        }
      },
      "source": [
        "print(max(f), max(g))"
      ],
      "execution_count": 2,
      "outputs": [
        {
          "output_type": "stream",
          "name": "stdout",
          "text": [
            "89 21\n"
          ]
        }
      ]
    },
    {
      "cell_type": "code",
      "metadata": {
        "id": "V_SkdTKEPw23",
        "outputId": "963c03a5-208f-4270-c446-af16a796789a",
        "colab": {
          "base_uri": "https://localhost:8080/"
        }
      },
      "source": [
        "print(min(f), min(g))"
      ],
      "execution_count": 3,
      "outputs": [
        {
          "output_type": "stream",
          "name": "stdout",
          "text": [
            "1 -4\n"
          ]
        }
      ]
    },
    {
      "cell_type": "code",
      "metadata": {
        "id": "lpgsVmD-Pw24",
        "outputId": "1c3353fd-5457-4d93-fa9d-c627c2a9846f",
        "colab": {
          "base_uri": "https://localhost:8080/"
        }
      },
      "source": [
        "print(list(sorted(g)))"
      ],
      "execution_count": 4,
      "outputs": [
        {
          "output_type": "stream",
          "name": "stdout",
          "text": [
            "[-4, 0, 6, 7, 9, 11, 12, 12, 13, 17, 21]\n"
          ]
        }
      ]
    },
    {
      "cell_type": "code",
      "metadata": {
        "id": "Qo3lJTWqPw24"
      },
      "source": [
        "print(sum(f), sum(g))"
      ],
      "execution_count": null,
      "outputs": []
    },
    {
      "cell_type": "markdown",
      "metadata": {
        "id": "s4x4CkgQPw25"
      },
      "source": [
        "#### Extended Boolean\n",
        "* all(iterable)\n",
        "* any(iterable)\n",
        "\n",
        "Think of these as **and**, **or** for lists of booleans  "
      ]
    },
    {
      "cell_type": "code",
      "metadata": {
        "id": "Ey_-3DTNPw25",
        "colab": {
          "base_uri": "https://localhost:8080/"
        },
        "outputId": "1eda118b-6f86-445a-f92e-20e84a8cd0be"
      },
      "source": [
        "x = [2 > 3, 5 < 7, False, \"Hello\" == \"World\"]\n",
        "print(all(x))\n",
        "print(any(x))"
      ],
      "execution_count": 5,
      "outputs": [
        {
          "output_type": "stream",
          "name": "stdout",
          "text": [
            "False\n",
            "True\n"
          ]
        }
      ]
    },
    {
      "cell_type": "markdown",
      "metadata": {
        "id": "swF-EwaCPw26"
      },
      "source": [
        "#### Mathematical\n",
        " * abs()\n",
        " * divmod(number, divideBy)\n",
        " * pow(number, exponent)\n",
        " * round(floatVal[, places])"
      ]
    },
    {
      "cell_type": "code",
      "metadata": {
        "id": "rrA38AUhPw27",
        "outputId": "d3c5a881-c577-4071-ec24-22ce634d35b3",
        "colab": {
          "base_uri": "https://localhost:8080/"
        }
      },
      "source": [
        "print(abs(-7))\n",
        "print(abs(3+4j))"
      ],
      "execution_count": 6,
      "outputs": [
        {
          "output_type": "stream",
          "name": "stdout",
          "text": [
            "7\n",
            "5.0\n"
          ]
        }
      ]
    },
    {
      "cell_type": "code",
      "metadata": {
        "id": "pE1jmjVtPw28",
        "outputId": "fcc954b1-af83-41a6-bcdc-87479c0c70a3",
        "colab": {
          "base_uri": "https://localhost:8080/"
        }
      },
      "source": [
        "print(divmod(17, 4))\n",
        "print(divmod(-17, 4))"
      ],
      "execution_count": 7,
      "outputs": [
        {
          "output_type": "stream",
          "name": "stdout",
          "text": [
            "(4, 1)\n",
            "(-5, 3)\n"
          ]
        }
      ]
    },
    {
      "cell_type": "code",
      "metadata": {
        "id": "4v67mQg8Pw28",
        "outputId": "79cba8ea-cc42-4057-9215-730449bf2cac",
        "colab": {
          "base_uri": "https://localhost:8080/"
        }
      },
      "source": [
        "print(pow(3, 4))\n",
        "print(pow(3.2, 4))\n",
        "print(pow(4.3, -2.5))"
      ],
      "execution_count": 8,
      "outputs": [
        {
          "output_type": "stream",
          "name": "stdout",
          "text": [
            "81\n",
            "104.85760000000002\n",
            "0.026081277564651822\n"
          ]
        }
      ]
    },
    {
      "cell_type": "code",
      "metadata": {
        "id": "XyF-CuuVPw29",
        "outputId": "e12a3eca-605c-4f60-a013-8c13f7a95f03",
        "colab": {
          "base_uri": "https://localhost:8080/"
        }
      },
      "source": [
        "print(round(12.3/4.5, 2))\n",
        "print(round(12.3/4.5))"
      ],
      "execution_count": 9,
      "outputs": [
        {
          "output_type": "stream",
          "name": "stdout",
          "text": [
            "2.73\n",
            "3\n"
          ]
        }
      ]
    },
    {
      "cell_type": "markdown",
      "metadata": {
        "id": "hVdQkKpLPw29"
      },
      "source": [
        "#### Constructors and Converters\n",
        " * ascii()\n",
        " * bin()\n",
        " * bool()\n",
        " * chr()\n",
        " * complex()\n",
        " * float()\n",
        " * hex()\n",
        " * int()\n",
        " * list()\n",
        " * oct()\n",
        " * ord()\n",
        " * set()\n",
        " * str()\n",
        " * tuple()"
      ]
    },
    {
      "cell_type": "markdown",
      "metadata": {
        "id": "3_r3xOJnPw29"
      },
      "source": [
        "#### Functional, Higher Order\n",
        "* filter\n",
        "* map\n",
        "* zip"
      ]
    },
    {
      "cell_type": "code",
      "metadata": {
        "id": "VNPTChtnPw29"
      },
      "source": [
        "f = [ 1,  1,  2,  3,  5,  8, 13, 21, 34, 55, 89]\n",
        "p = [ 2,  3,  5,  7, 11, 13, 17, 19, 23, 29, 31]"
      ],
      "execution_count": 10,
      "outputs": []
    },
    {
      "cell_type": "code",
      "metadata": {
        "id": "_w64QP07Pw2-"
      },
      "source": [
        "def square(n):\n",
        "    return n * n\n",
        "def isEven(n):\n",
        "    return n % 2 == 0\n",
        "def isPowerOf2(n):\n",
        "    if n == 1:\n",
        "        return True\n",
        "    if n % 2 == 1:\n",
        "        return False\n",
        "    return isPowerOf2(n//2)"
      ],
      "execution_count": 11,
      "outputs": []
    },
    {
      "cell_type": "code",
      "metadata": {
        "id": "Zmh3u1aIPw2-",
        "outputId": "4afed48e-b279-42a0-de49-45f29de7af76",
        "colab": {
          "base_uri": "https://localhost:8080/"
        }
      },
      "source": [
        "print(list(filter(isEven, f)))\n",
        "print(list(filter(isEven, p)))\n",
        "print(list(filter(isPowerOf2, f)))"
      ],
      "execution_count": 12,
      "outputs": [
        {
          "output_type": "stream",
          "name": "stdout",
          "text": [
            "[2, 8, 34]\n",
            "[2]\n",
            "[1, 1, 2, 8]\n"
          ]
        }
      ]
    },
    {
      "cell_type": "code",
      "metadata": {
        "id": "e6N8Qs5DPw2_",
        "outputId": "fcee93df-da00-4f7a-e6db-128e39886553",
        "colab": {
          "base_uri": "https://localhost:8080/"
        }
      },
      "source": [
        "print(list(map(square,f)))\n",
        "print(list(map(square, filter(isEven, f))))"
      ],
      "execution_count": 13,
      "outputs": [
        {
          "output_type": "stream",
          "name": "stdout",
          "text": [
            "[1, 1, 4, 9, 25, 64, 169, 441, 1156, 3025, 7921]\n",
            "[4, 64, 1156]\n"
          ]
        }
      ]
    },
    {
      "cell_type": "code",
      "metadata": {
        "id": "yYJkRdRwPw2_",
        "outputId": "cbf72c52-6753-4d0d-8fdb-b1284e0ae8f7",
        "colab": {
          "base_uri": "https://localhost:8080/"
        }
      },
      "source": [
        "print(list(zip(f, p)))"
      ],
      "execution_count": 14,
      "outputs": [
        {
          "output_type": "stream",
          "name": "stdout",
          "text": [
            "[(1, 2), (1, 3), (2, 5), (3, 7), (5, 11), (8, 13), (13, 17), (21, 19), (34, 23), (55, 29), (89, 31)]\n"
          ]
        }
      ]
    },
    {
      "cell_type": "code",
      "metadata": {
        "id": "7LbhnVnSPw2_",
        "outputId": "407eb5b9-2133-486e-9086-7291ca92f10f",
        "colab": {
          "base_uri": "https://localhost:8080/"
        }
      },
      "source": [
        "grading = [\"Test\", \"Quiz\", \"Individual Lab\", \"Group Lab\", \"Hackathon\"]\n",
        "grades = [300, 60, 120, 60, 120]\n",
        "print(list(zip(grading, grades)))\n"
      ],
      "execution_count": 15,
      "outputs": [
        {
          "output_type": "stream",
          "name": "stdout",
          "text": [
            "[('Test', 300), ('Quiz', 60), ('Individual Lab', 120), ('Group Lab', 60), ('Hackathon', 120)]\n"
          ]
        }
      ]
    }
  ]
}