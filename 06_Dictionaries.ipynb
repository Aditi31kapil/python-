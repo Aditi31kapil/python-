{
  "nbformat": 4,
  "nbformat_minor": 0,
  "metadata": {
    "colab": {
      "provenance": [],
      "include_colab_link": true
    },
    "kernelspec": {
      "display_name": "Python 3",
      "language": "python",
      "name": "python3"
    },
    "language_info": {
      "codemirror_mode": {
        "name": "ipython",
        "version": 3
      },
      "file_extension": ".py",
      "mimetype": "text/x-python",
      "name": "python",
      "nbconvert_exporter": "python",
      "pygments_lexer": "ipython3",
      "version": "3.9.2"
    }
  },
  "cells": [
    {
      "cell_type": "markdown",
      "metadata": {
        "id": "view-in-github",
        "colab_type": "text"
      },
      "source": [
        "<a href=\"https://colab.research.google.com/github/Aditi31kapil/python-/blob/main/06_Dictionaries.ipynb\" target=\"_parent\"><img src=\"https://colab.research.google.com/assets/colab-badge.svg\" alt=\"Open In Colab\"/></a>"
      ]
    },
    {
      "cell_type": "markdown",
      "metadata": {
        "id": "YEhkTWo1nDz_"
      },
      "source": [
        "# Python Quickstart\n",
        "## Dictionaries"
      ]
    },
    {
      "cell_type": "code",
      "metadata": {
        "id": "88RnxRrRBSJS"
      },
      "source": [
        "#Create a dictionary\n",
        "capitals = {\"INDIA\" : \"New Delhi\", \"USA\" : \"Washington DC\", \"UK\" : \"London\" }"
      ],
      "execution_count": 1,
      "outputs": []
    },
    {
      "cell_type": "code",
      "metadata": {
        "id": "Yb2GxmTRDrss",
        "outputId": "b517c90d-e797-48f7-be8e-f3616411f1db",
        "colab": {
          "base_uri": "https://localhost:8080/",
          "height": 35
        }
      },
      "source": [
        "#Retrive value of a key\n",
        "capitals[\"USA\"]"
      ],
      "execution_count": 2,
      "outputs": [
        {
          "output_type": "execute_result",
          "data": {
            "text/plain": [
              "'Washington DC'"
            ],
            "application/vnd.google.colaboratory.intrinsic+json": {
              "type": "string"
            }
          },
          "metadata": {},
          "execution_count": 2
        }
      ]
    },
    {
      "cell_type": "code",
      "metadata": {
        "id": "TS1KqNtkHBq4",
        "outputId": "76fc631f-ef36-40a5-b0e8-4b89cdea2fc0",
        "colab": {
          "base_uri": "https://localhost:8080/",
          "height": 35
        }
      },
      "source": [
        "#Retrieve value of a key\n",
        "capitals[\"INDIA\"]"
      ],
      "execution_count": 3,
      "outputs": [
        {
          "output_type": "execute_result",
          "data": {
            "text/plain": [
              "'New Delhi'"
            ],
            "application/vnd.google.colaboratory.intrinsic+json": {
              "type": "string"
            }
          },
          "metadata": {},
          "execution_count": 3
        }
      ]
    },
    {
      "cell_type": "code",
      "metadata": {
        "id": "kTkrYdB-HflQ",
        "outputId": "2df03656-4b9b-43bc-cb71-57c57bfacc05",
        "colab": {
          "base_uri": "https://localhost:8080/",
          "height": 194
        }
      },
      "source": [
        "#Case sensitive\n",
        "capitals[\"India\"]"
      ],
      "execution_count": 4,
      "outputs": [
        {
          "output_type": "error",
          "ename": "KeyError",
          "evalue": "'India'",
          "traceback": [
            "\u001b[0;31m---------------------------------------------------------------------------\u001b[0m",
            "\u001b[0;31mKeyError\u001b[0m                                  Traceback (most recent call last)",
            "\u001b[0;32m<ipython-input-4-efd167ae77aa>\u001b[0m in \u001b[0;36m<cell line: 2>\u001b[0;34m()\u001b[0m\n\u001b[1;32m      1\u001b[0m \u001b[0;31m#Case sensitive\u001b[0m\u001b[0;34m\u001b[0m\u001b[0;34m\u001b[0m\u001b[0m\n\u001b[0;32m----> 2\u001b[0;31m \u001b[0mcapitals\u001b[0m\u001b[0;34m[\u001b[0m\u001b[0;34m\"India\"\u001b[0m\u001b[0;34m]\u001b[0m\u001b[0;34m\u001b[0m\u001b[0;34m\u001b[0m\u001b[0m\n\u001b[0m",
            "\u001b[0;31mKeyError\u001b[0m: 'India'"
          ]
        }
      ]
    },
    {
      "cell_type": "code",
      "metadata": {
        "id": "zKzS_V9gD60W",
        "outputId": "05eb2234-2a66-4d72-d48f-896798871ecb",
        "colab": {
          "base_uri": "https://localhost:8080/"
        }
      },
      "source": [
        "#Length of a dictionary\n",
        "len(capitals)"
      ],
      "execution_count": 5,
      "outputs": [
        {
          "output_type": "execute_result",
          "data": {
            "text/plain": [
              "3"
            ]
          },
          "metadata": {},
          "execution_count": 5
        }
      ]
    },
    {
      "cell_type": "code",
      "metadata": {
        "id": "dzIM-hUJEBfQ",
        "outputId": "77fa8efd-9a46-440e-ac9e-66fa2db268bd",
        "colab": {
          "base_uri": "https://localhost:8080/"
        }
      },
      "source": [
        "#Built-in function to get the keys\n",
        "capitals.keys()"
      ],
      "execution_count": 6,
      "outputs": [
        {
          "output_type": "execute_result",
          "data": {
            "text/plain": [
              "dict_keys(['INDIA', 'USA', 'UK'])"
            ]
          },
          "metadata": {},
          "execution_count": 6
        }
      ]
    },
    {
      "cell_type": "code",
      "metadata": {
        "id": "Ib_V2aNTEQAO",
        "outputId": "d32884e8-42fe-4f52-c2a2-a3b3680427c7",
        "colab": {
          "base_uri": "https://localhost:8080/"
        }
      },
      "source": [
        "#Built-in function to get values\n",
        "capitals.values()"
      ],
      "execution_count": 7,
      "outputs": [
        {
          "output_type": "execute_result",
          "data": {
            "text/plain": [
              "dict_values(['New Delhi', 'Washington DC', 'London'])"
            ]
          },
          "metadata": {},
          "execution_count": 7
        }
      ]
    },
    {
      "cell_type": "code",
      "metadata": {
        "id": "OBBNljqvFWvO",
        "outputId": "b2535d17-bdab-4abc-c3d9-1b8329789035",
        "colab": {
          "base_uri": "https://localhost:8080/"
        }
      },
      "source": [
        "#Retrive all the key - value pairs\n",
        "capitals.items()"
      ],
      "execution_count": 8,
      "outputs": [
        {
          "output_type": "execute_result",
          "data": {
            "text/plain": [
              "dict_items([('INDIA', 'New Delhi'), ('USA', 'Washington DC'), ('UK', 'London')])"
            ]
          },
          "metadata": {},
          "execution_count": 8
        }
      ]
    },
    {
      "cell_type": "code",
      "metadata": {
        "id": "kvQnx8UlFt0K"
      },
      "source": [
        "#Adding a key - value pair\n",
        "capitals[\"SRI LANKA\"] = \"Colombo\""
      ],
      "execution_count": 9,
      "outputs": []
    },
    {
      "cell_type": "code",
      "metadata": {
        "id": "RIvnOM5SF51Y",
        "outputId": "94c586e3-0a0d-46da-c469-6b8a59b417a9",
        "colab": {
          "base_uri": "https://localhost:8080/"
        }
      },
      "source": [
        "#New length of dictionary\n",
        "len(capitals)"
      ],
      "execution_count": 10,
      "outputs": [
        {
          "output_type": "execute_result",
          "data": {
            "text/plain": [
              "4"
            ]
          },
          "metadata": {},
          "execution_count": 10
        }
      ]
    },
    {
      "cell_type": "code",
      "metadata": {
        "id": "kQIBmjJ_F-Ru",
        "outputId": "cba47b38-c9e7-4750-b01c-035a6a6ec199",
        "colab": {
          "base_uri": "https://localhost:8080/"
        }
      },
      "source": [
        "#Order of key-value pairs get changed\n",
        "capitals"
      ],
      "execution_count": 11,
      "outputs": [
        {
          "output_type": "execute_result",
          "data": {
            "text/plain": [
              "{'INDIA': 'New Delhi',\n",
              " 'USA': 'Washington DC',\n",
              " 'UK': 'London',\n",
              " 'SRI LANKA': 'Colombo'}"
            ]
          },
          "metadata": {},
          "execution_count": 11
        }
      ]
    },
    {
      "cell_type": "code",
      "metadata": {
        "id": "xmpY8CaeOT0U"
      },
      "source": [
        "capitals[\"AFGHANISTAN\"] = \"Kabul\""
      ],
      "execution_count": 12,
      "outputs": []
    },
    {
      "cell_type": "code",
      "metadata": {
        "id": "jCdte-XHOd6o"
      },
      "source": [
        "#Update an existing dictionary\n",
        "capitals[\"AFGHANISTAN\"] = \"KABUL\""
      ],
      "execution_count": 13,
      "outputs": []
    },
    {
      "cell_type": "code",
      "metadata": {
        "id": "2uLlL38nPIRE",
        "outputId": "9458d6ce-3be9-439e-af57-201379e9b5a0",
        "colab": {
          "base_uri": "https://localhost:8080/"
        }
      },
      "source": [
        "capitals"
      ],
      "execution_count": 14,
      "outputs": [
        {
          "output_type": "execute_result",
          "data": {
            "text/plain": [
              "{'INDIA': 'New Delhi',\n",
              " 'USA': 'Washington DC',\n",
              " 'UK': 'London',\n",
              " 'SRI LANKA': 'Colombo',\n",
              " 'AFGHANISTAN': 'KABUL'}"
            ]
          },
          "metadata": {},
          "execution_count": 14
        }
      ]
    },
    {
      "cell_type": "code",
      "metadata": {
        "id": "FBW2K6khGBwm"
      },
      "source": [
        "# keys can be tuples\n",
        "capitals[(23,45)] = \"Number\""
      ],
      "execution_count": 15,
      "outputs": []
    },
    {
      "cell_type": "code",
      "metadata": {
        "id": "TfYMEBI3LYCc",
        "outputId": "09f298de-b18d-4635-db01-e2e1536a94b1",
        "colab": {
          "base_uri": "https://localhost:8080/"
        }
      },
      "source": [
        "capitals"
      ],
      "execution_count": 16,
      "outputs": [
        {
          "output_type": "execute_result",
          "data": {
            "text/plain": [
              "{'INDIA': 'New Delhi',\n",
              " 'USA': 'Washington DC',\n",
              " 'UK': 'London',\n",
              " 'SRI LANKA': 'Colombo',\n",
              " 'AFGHANISTAN': 'KABUL',\n",
              " (23, 45): 'Number'}"
            ]
          },
          "metadata": {},
          "execution_count": 16
        }
      ]
    },
    {
      "cell_type": "code",
      "metadata": {
        "id": "RjmV9Re6LYyO",
        "outputId": "5913acb9-3d9a-411a-a02c-976151dfb04e",
        "colab": {
          "base_uri": "https://localhost:8080/"
        }
      },
      "source": [
        "for k in capitals.keys():\n",
        "  print (capitals[k])"
      ],
      "execution_count": 17,
      "outputs": [
        {
          "output_type": "stream",
          "name": "stdout",
          "text": [
            "New Delhi\n",
            "Washington DC\n",
            "London\n",
            "Colombo\n",
            "KABUL\n",
            "Number\n"
          ]
        }
      ]
    },
    {
      "cell_type": "code",
      "metadata": {
        "id": "0dbkuLt-OB_A",
        "outputId": "3872b0e4-ed7a-4eba-bd3b-af1f68c69d25",
        "colab": {
          "base_uri": "https://localhost:8080/"
        }
      },
      "source": [
        "for k in capitals.keys():\n",
        "  print (k, capitals[k])"
      ],
      "execution_count": 18,
      "outputs": [
        {
          "output_type": "stream",
          "name": "stdout",
          "text": [
            "INDIA New Delhi\n",
            "USA Washington DC\n",
            "UK London\n",
            "SRI LANKA Colombo\n",
            "AFGHANISTAN KABUL\n",
            "(23, 45) Number\n"
          ]
        }
      ]
    },
    {
      "cell_type": "code",
      "metadata": {
        "id": "KUYGcfrWOGzM"
      },
      "source": [
        "#Letter count\n",
        "letterCount = {}"
      ],
      "execution_count": 19,
      "outputs": []
    },
    {
      "cell_type": "code",
      "metadata": {
        "id": "BbHaNYTYP3MY"
      },
      "source": [
        "s = '''TalentSprint is a digital platform designed to transform\n",
        "the lives of professionals in the new economy. Its blended bootcamps\n",
        "offer deeptech skills.'''"
      ],
      "execution_count": 20,
      "outputs": []
    },
    {
      "cell_type": "code",
      "metadata": {
        "id": "hgdeGHePRAMK"
      },
      "source": [
        "for ch in s :\n",
        "  ch = ch.lower()\n",
        "  if ch not in letterCount:\n",
        "    letterCount[ch] = 1\n",
        "  else:\n",
        "    letterCount[ch] += 1"
      ],
      "execution_count": 21,
      "outputs": []
    },
    {
      "cell_type": "code",
      "metadata": {
        "id": "SYg7ARPLRkZy",
        "outputId": "01bd1c29-359c-4488-df7e-602e23beb7cd",
        "colab": {
          "base_uri": "https://localhost:8080/"
        }
      },
      "source": [
        "letterCount"
      ],
      "execution_count": 22,
      "outputs": [
        {
          "output_type": "execute_result",
          "data": {
            "text/plain": [
              "{'t': 12,\n",
              " 'a': 7,\n",
              " 'l': 8,\n",
              " 'e': 15,\n",
              " 'n': 9,\n",
              " 's': 12,\n",
              " 'p': 5,\n",
              " 'r': 6,\n",
              " 'i': 10,\n",
              " ' ': 20,\n",
              " 'd': 6,\n",
              " 'g': 2,\n",
              " 'f': 6,\n",
              " 'o': 11,\n",
              " 'm': 4,\n",
              " '\\n': 2,\n",
              " 'h': 3,\n",
              " 'v': 1,\n",
              " 'w': 1,\n",
              " 'c': 3,\n",
              " 'y': 1,\n",
              " '.': 2,\n",
              " 'b': 2,\n",
              " 'k': 1}"
            ]
          },
          "metadata": {},
          "execution_count": 22
        }
      ]
    },
    {
      "cell_type": "code",
      "metadata": {
        "id": "IbUJKNpBRu9s",
        "outputId": "cf6c36c2-f391-4990-b37f-9a2de086daa6",
        "colab": {
          "base_uri": "https://localhost:8080/"
        }
      },
      "source": [
        "letterCount.keys()"
      ],
      "execution_count": 23,
      "outputs": [
        {
          "output_type": "execute_result",
          "data": {
            "text/plain": [
              "dict_keys(['t', 'a', 'l', 'e', 'n', 's', 'p', 'r', 'i', ' ', 'd', 'g', 'f', 'o', 'm', '\\n', 'h', 'v', 'w', 'c', 'y', '.', 'b', 'k'])"
            ]
          },
          "metadata": {},
          "execution_count": 23
        }
      ]
    },
    {
      "cell_type": "markdown",
      "metadata": {
        "id": "J_aqrtCHQe0p"
      },
      "source": [
        "### collections\n",
        "#### Counter"
      ]
    },
    {
      "cell_type": "code",
      "metadata": {
        "id": "El5bCM4sQe0q",
        "outputId": "c768084b-1ac7-47a1-e790-a7ef74e20bd0",
        "colab": {
          "base_uri": "https://localhost:8080/"
        }
      },
      "source": [
        "import collections\n",
        "## Create a new Counter() object called frequencies\n",
        "frequencies = collections.Counter()\n",
        "\n",
        "## iterate through each letter in the sentence\n",
        "for letter in s:\n",
        "\n",
        "    ## update the frequencies object with each letter.\n",
        "    ## the bookkeeping is done by the Counter()\n",
        "    frequencies.update(letter)\n",
        "\n",
        "print(frequencies)"
      ],
      "execution_count": 24,
      "outputs": [
        {
          "output_type": "stream",
          "name": "stdout",
          "text": [
            "Counter({' ': 20, 'e': 15, 't': 11, 's': 11, 'o': 11, 'n': 9, 'i': 9, 'l': 8, 'a': 7, 'r': 6, 'd': 6, 'f': 6, 'p': 5, 'm': 4, 'h': 3, 'c': 3, 'g': 2, '\\n': 2, '.': 2, 'b': 2, 'T': 1, 'S': 1, 'v': 1, 'w': 1, 'y': 1, 'I': 1, 'k': 1})\n"
          ]
        }
      ]
    },
    {
      "cell_type": "markdown",
      "metadata": {
        "id": "19VxiT4kQe0q"
      },
      "source": [
        "As you can see the Counter() made it very simple to calculate the frequencies. It has a minor flaw. It is not likely that we want to count upper case and lower case letters separately. We make the change below:"
      ]
    },
    {
      "cell_type": "code",
      "metadata": {
        "id": "_mkrDQF1Qe0q",
        "outputId": "120f41c5-339f-43f9-a88b-3313b8667164",
        "colab": {
          "base_uri": "https://localhost:8080/"
        }
      },
      "source": [
        "import collections\n",
        "\n",
        "## Create a new Counter() object called frequencies\n",
        "frequencies = collections.Counter()\n",
        "\n",
        "## iterate through each letter in the sentence\n",
        "for letter in s:\n",
        "\n",
        "    ## update the frequencies object with each letter.\n",
        "    ## the bookkeeping is done by the Counter()\n",
        "    ## convert letter to lower case first\n",
        "    frequencies.update(letter.lower())\n",
        "\n",
        "print(frequencies)"
      ],
      "execution_count": 25,
      "outputs": [
        {
          "output_type": "stream",
          "name": "stdout",
          "text": [
            "Counter({' ': 20, 'e': 15, 't': 12, 's': 12, 'o': 11, 'i': 10, 'n': 9, 'l': 8, 'a': 7, 'r': 6, 'd': 6, 'f': 6, 'p': 5, 'm': 4, 'h': 3, 'c': 3, 'g': 2, '\\n': 2, '.': 2, 'b': 2, 'v': 1, 'w': 1, 'y': 1, 'k': 1})\n"
          ]
        }
      ]
    },
    {
      "cell_type": "markdown",
      "metadata": {
        "id": "fXmE7UVUQe0r"
      },
      "source": [
        "By the way, Counter() is smart enough to count the individual elements, if a sequence of them is given. So we can do the above much more simply!"
      ]
    },
    {
      "cell_type": "code",
      "metadata": {
        "id": "HCaDhJQHQe0s",
        "outputId": "7fd8f2c9-d0a9-4b4b-de3d-da61ef69eeaf",
        "colab": {
          "base_uri": "https://localhost:8080/"
        }
      },
      "source": [
        "import collections\n",
        "frequencies = collections.Counter(s.lower())\n",
        "\n",
        "print(frequencies)"
      ],
      "execution_count": 26,
      "outputs": [
        {
          "output_type": "stream",
          "name": "stdout",
          "text": [
            "Counter({' ': 20, 'e': 15, 't': 12, 's': 12, 'o': 11, 'i': 10, 'n': 9, 'l': 8, 'a': 7, 'r': 6, 'd': 6, 'f': 6, 'p': 5, 'm': 4, 'h': 3, 'c': 3, 'g': 2, '\\n': 2, '.': 2, 'b': 2, 'v': 1, 'w': 1, 'y': 1, 'k': 1})\n"
          ]
        }
      ]
    },
    {
      "cell_type": "markdown",
      "metadata": {
        "id": "zYorgrCzQe0s"
      },
      "source": [
        "Counter offers a lot more functionality"
      ]
    },
    {
      "cell_type": "code",
      "metadata": {
        "id": "Bg82GDTUQe0s",
        "outputId": "80d939c8-e961-4ec6-db84-bede82b3b084",
        "colab": {
          "base_uri": "https://localhost:8080/"
        }
      },
      "source": [
        "lett_freq = collections.Counter(s.lower())\n",
        "lett_freq.most_common(5)"
      ],
      "execution_count": 27,
      "outputs": [
        {
          "output_type": "execute_result",
          "data": {
            "text/plain": [
              "[(' ', 20), ('e', 15), ('t', 12), ('s', 12), ('o', 11)]"
            ]
          },
          "metadata": {},
          "execution_count": 27
        }
      ]
    },
    {
      "cell_type": "markdown",
      "metadata": {
        "id": "B3oK1H1RQe0t"
      },
      "source": [
        "As you can see we fed a sentence and got back the top-5 frequently occurring characters, with their frequencies. So let us now write a function that finds the most frequently occurring **letter** in a given sentence."
      ]
    },
    {
      "cell_type": "code",
      "metadata": {
        "id": "1op0EYuMQe0t"
      },
      "source": [
        "def mostFreqLetter(s):\n",
        "    import collections\n",
        "    freq = collections.Counter()\n",
        "    for ch in s:\n",
        "        ch = ch.lower()\n",
        "        if 'a' <= ch <= 'z':\n",
        "            freq.update(ch)\n",
        "    return freq.most_common(1)[0]"
      ],
      "execution_count": 34,
      "outputs": []
    },
    {
      "cell_type": "code",
      "metadata": {
        "id": "FlcLCUXLQe0u",
        "outputId": "54c6a6cf-54da-4a4b-db80-50bb2ec26844",
        "colab": {
          "base_uri": "https://localhost:8080/"
        }
      },
      "source": [
        "mostFreqLetter(\"Old brother fox jumps over the lzay dog in this pangram of English\")"
      ],
      "execution_count": 35,
      "outputs": [
        {
          "output_type": "execute_result",
          "data": {
            "text/plain": [
              "('r', 4)"
            ]
          },
          "metadata": {},
          "execution_count": 35
        }
      ]
    },
    {
      "cell_type": "markdown",
      "metadata": {
        "id": "D9HM0UkFQe0u"
      },
      "source": [
        "**Counter() cannot count individual floats or integers**"
      ]
    },
    {
      "cell_type": "code",
      "metadata": {
        "id": "9OlpsseNQe0u",
        "outputId": "f32e14b2-cb5b-4f3d-cd27-29814733ce12",
        "colab": {
          "base_uri": "https://localhost:8080/"
        }
      },
      "source": [
        "f = [8, 1.2, 1.6, 3.2, 1, 1.2, 5, 600, 1, 3, 1.2, ]\n",
        "import collections\n",
        "freq = collections.Counter()\n",
        "for n in f:\n",
        "    freq.update(str(n))\n",
        "print(freq)"
      ],
      "execution_count": 42,
      "outputs": [
        {
          "output_type": "stream",
          "name": "stdout",
          "text": [
            "Counter({'1': 6, '.': 5, '2': 4, '6': 2, '3': 2, '0': 2, '8': 1, '5': 1})\n"
          ]
        }
      ]
    },
    {
      "cell_type": "markdown",
      "metadata": {
        "id": "afLMKuwLQe0u"
      },
      "source": [
        "But this will work"
      ]
    },
    {
      "cell_type": "code",
      "metadata": {
        "id": "M55v5Lj7Qe0u",
        "outputId": "24671769-6206-41f2-c669-d529b7134dc2",
        "colab": {
          "base_uri": "https://localhost:8080/"
        }
      },
      "source": [
        "f = [8, 1.2, 1.6, 3.2, 1, 1.2, 5, 600, 1, 3, 1.2, ]\n",
        "import collections\n",
        "freq = collections.Counter()\n",
        "freq.update(f)\n",
        "print(freq)\n",
        "print(freq.most_common(2))"
      ],
      "execution_count": 37,
      "outputs": [
        {
          "output_type": "stream",
          "name": "stdout",
          "text": [
            "Counter({1.2: 3, 1: 2, 8: 1, 1.6: 1, 3.2: 1, 5: 1, 600: 1, 3: 1})\n",
            "[(1.2, 3), (1, 2)]\n"
          ]
        }
      ]
    }
  ]
}